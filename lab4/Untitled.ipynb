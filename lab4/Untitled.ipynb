{
 "cells": [
  {
   "cell_type": "code",
   "execution_count": 1,
   "metadata": {},
   "outputs": [],
   "source": [
    "import numpy as np"
   ]
  },
  {
   "cell_type": "code",
   "execution_count": 3,
   "metadata": {},
   "outputs": [
    {
     "data": {
      "text/plain": [
       "array([[0.001, 0.001, 0.001, 0.001, 0.001, 0.001, 0.001, 0.001, 0.001,\n",
       "        0.001, 0.001, 0.001, 0.001, 0.001, 0.001, 0.001],\n",
       "       [0.001, 0.001, 0.001, 0.001, 0.001, 0.001, 0.001, 0.001, 0.001,\n",
       "        0.001, 0.001, 0.001, 0.001, 0.001, 0.001, 0.001],\n",
       "       [0.001, 0.001, 0.001, 0.001, 0.001, 0.001, 0.001, 0.001, 0.001,\n",
       "        0.001, 0.001, 0.001, 0.001, 0.001, 0.001, 0.001],\n",
       "       [0.001, 0.001, 0.001, 0.001, 0.001, 0.001, 0.001, 0.001, 0.001,\n",
       "        0.001, 0.001, 0.001, 0.001, 0.001, 0.001, 0.001]])"
      ]
     },
     "execution_count": 3,
     "metadata": {},
     "output_type": "execute_result"
    }
   ],
   "source": [
    "A = np.ndarray([4,16])\n",
    "A.fill(0.001)\n",
    "A"
   ]
  },
  {
   "cell_type": "code",
   "execution_count": 6,
   "metadata": {},
   "outputs": [
    {
     "data": {
      "text/plain": [
       "array([[161.],\n",
       "       [161.],\n",
       "       [163.],\n",
       "       [159.],\n",
       "       [161.],\n",
       "       [161.],\n",
       "       [155.],\n",
       "       [157.],\n",
       "       [157.],\n",
       "       [157.],\n",
       "       [159.],\n",
       "       [159.],\n",
       "       [161.],\n",
       "       [161.],\n",
       "       [159.],\n",
       "       [157.]])"
      ]
     },
     "execution_count": 6,
     "metadata": {},
     "output_type": "execute_result"
    }
   ],
   "source": [
    "B = np.ndarray([16,1])\n",
    "B[0,0] = 161\n",
    "B[1,0] = 161\n",
    "B[2,0] = 163\n",
    "B[3,0] = 159\n",
    "B[4,0] = 161\n",
    "B[5,0] = 161\n",
    "B[6,0] = 155\n",
    "B[7,0] = 157\n",
    "B[8,0] = 157\n",
    "B[9,0] = 157\n",
    "B[10,0] = 159\n",
    "B[11,0] = 159\n",
    "B[12,0] = 161\n",
    "B[13,0] = 161\n",
    "B[14,0] = 159\n",
    "B[15,0] = 157\n",
    "B"
   ]
  },
  {
   "cell_type": "code",
   "execution_count": 8,
   "metadata": {},
   "outputs": [
    {
     "data": {
      "text/plain": [
       "array([[2.548],\n",
       "       [2.548],\n",
       "       [2.548],\n",
       "       [2.548]])"
      ]
     },
     "execution_count": 8,
     "metadata": {},
     "output_type": "execute_result"
    }
   ],
   "source": [
    "A.dot(B)"
   ]
  },
  {
   "cell_type": "code",
   "execution_count": null,
   "metadata": {},
   "outputs": [],
   "source": []
  }
 ],
 "metadata": {
  "kernelspec": {
   "display_name": "Python 3",
   "language": "python",
   "name": "python3"
  },
  "language_info": {
   "codemirror_mode": {
    "name": "ipython",
    "version": 3
   },
   "file_extension": ".py",
   "mimetype": "text/x-python",
   "name": "python",
   "nbconvert_exporter": "python",
   "pygments_lexer": "ipython3",
   "version": "3.7.2"
  }
 },
 "nbformat": 4,
 "nbformat_minor": 4
}
